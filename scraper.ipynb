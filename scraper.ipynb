{
 "cells": [
  {
   "cell_type": "markdown",
   "id": "4b979a6f",
   "metadata": {},
   "source": [
    "# **Moroccan housing data scraping**"
   ]
  },
  {
   "cell_type": "code",
   "execution_count": 13,
   "id": "62f3712c",
   "metadata": {},
   "outputs": [],
   "source": [
    "from bs4 import BeautifulSoup as bs \n",
    "from urllib.request import urlopen\n",
    "from tqdm import tqdm\n",
    "import pandas as pd \n",
    "import numpy as np\n",
    "import pyttsx3\n",
    "import requests"
   ]
  },
  {
   "cell_type": "markdown",
   "id": "294d1b0a",
   "metadata": {},
   "source": [
    "#### **1-website Connection and Request Header** "
   ]
  },
  {
   "cell_type": "code",
   "execution_count": 14,
   "id": "5e3ce0d0",
   "metadata": {},
   "outputs": [],
   "source": [
    "url = \"https://agenz.ma/fr/list.htm?page=0&zoom=4&lat=-7.635011078156706&lng=33.56108801291275&transaction_type=vente\"\n",
    "\n",
    "# we will set up a header to mimic a real browers\n",
    "headers = {\n",
    "    'User -Agent': 'Mozilla/5.0 (Windows NT 10.0; Win64; x64) AppleWebKit/537.36 (KHTML, like Gecko) Chrome/58.0.3029.110 Safari/537.3',\n",
    "    'Accept': 'text/html,application/xhtml+xml,application/xml;q=0.9,*/*;q=0.8',\n",
    "    'Accept-Language': 'en-US,en;q=0.5',\n",
    "    'Referer': 'https://www.google.com/'}\n",
    "\n",
    "responce = requests.get(url, headers=headers)"
   ]
  },
  {
   "cell_type": "markdown",
   "id": "c5840823",
   "metadata": {},
   "source": [
    "#### **2-connecting to the website**"
   ]
  },
  {
   "cell_type": "code",
   "execution_count": 15,
   "id": "52519af8",
   "metadata": {},
   "outputs": [],
   "source": [
    "soup = bs(responce.content,'html.parser')"
   ]
  },
  {
   "cell_type": "code",
   "execution_count": 16,
   "id": "bbad09de",
   "metadata": {},
   "outputs": [
    {
     "data": {
      "text/plain": [
       "25"
      ]
     },
     "execution_count": 16,
     "metadata": {},
     "output_type": "execute_result"
    }
   ],
   "source": [
    "container = soup.find_all('div',{\"class\":\"_listingDetails_1k4wq_85\"})\n",
    "len(container)"
   ]
  },
  {
   "cell_type": "code",
   "execution_count": 17,
   "id": "f76cbabf",
   "metadata": {},
   "outputs": [
    {
     "data": {
      "text/plain": [
       "('1950000DH', '1750000DH')"
      ]
     },
     "execution_count": 17,
     "metadata": {},
     "output_type": "execute_result"
    }
   ],
   "source": [
    "# new price\n",
    "a = container[0].find_all('div',{'class','_price_1qcbr_46'})\n",
    "bb = a[0].text.replace(' ','').strip()\n",
    "\n",
    "\n",
    "# old price\n",
    "a = container[0].find_all('div',{'class','_oldPrice_1qcbr_82'})\n",
    "b = a[0].text.replace(' ','').strip()\n",
    "b,bb"
   ]
  },
  {
   "cell_type": "code",
   "execution_count": null,
   "id": "99d1e230",
   "metadata": {},
   "outputs": [
    {
     "data": {
      "text/plain": [
       "\"   Superbe appartement à vendre à Casablanca - Quartier Belvédère\\n\\nDécouvrez ce charmant appartement situé dans l’un des quartiers les plus recherchés de Casablanca, le Belvédère. \\n\\nImplanté au 3e étage d'un immeuble de 7 étages, cet appartement de 107 m² vous offre un cadre de vie agréable et pratique, alliant confort et modernité. \\n\\nL'orientation Nord-Est garantit une belle luminosité naturelle tout au long de la journée. \\n\\nLa résidence fermée, avec ascenseur et un espace de stationnement privé, assure une sécurité optimale et une tranquillité appréciable. \\n\\n   Caractéristiques principales :\\n\\n- Superficie : 107 m²\\n\\n- Double salon orienté Nord-Est\\n- 2 chambres à coucher , dont 1 avec balcon et placards\\n- Une salle d’eau \\n- Une salle de bain refaite à neuf\\n- Cuisine spacieuse avec un coin séjour\\n- Une place de parking attribuée\\n- Balcon\\n- Ascenseur\\n- Résidence sécurisée\\n\\n   Informations supplémentaires :\\n\\n- Frais de syndic : 300 MAD par mois\\n- Possibilité de vente meublée\\n- Localisation idéale entre le boulevard Tachfine et Oulad Ziane\\n\\nN'attendez plus pour visiter ce bien rare et profiter d'une qualité de vie exceptionnelle à Casablanca. Contactez-nous pour organiser une visite !\""
      ]
     },
     "execution_count": 8,
     "metadata": {},
     "output_type": "execute_result"
    }
   ],
   "source": [
    "#Description\n",
    "a = container[0].find_all('p',{'class':'_paraDescriptionContent_1grly_51'})\n",
    "a[0].text"
   ]
  },
  {
   "cell_type": "code",
   "execution_count": 34,
   "id": "3b7f9fa8",
   "metadata": {},
   "outputs": [],
   "source": [
    "rows = container[0].find_all('div', {'class': '_rooms_1qcbr_139'})\n",
    "features = {}\n",
    "for row in rows:\n",
    "    header = row.find('div', {'class': '_typeBien_1qcbr_148'})\n",
    "    value = row.find('div', {'class': '_nouveau_1qcbr_60'})\n",
    "\n",
    "    if header and value:\n",
    "        key = header.text.strip()\n",
    "        features[key] = value.text.strip()\n",
    "    if header:\n",
    "        key = header.text.strip()\n",
    "        features[key] = 1    \n",
    "\n",
    "df = pd.DataFrame([features])       "
   ]
  },
  {
   "cell_type": "code",
   "execution_count": 25,
   "id": "6bce6fb4",
   "metadata": {},
   "outputs": [
    {
     "data": {
      "text/plain": [
       "[<div class=\"_rooms_1qcbr_139\"> <div class=\"_nouveau_1qcbr_60\">2</div> <div class=\"_typeBien_1qcbr_148\"> salles de bains  </div> </div>,\n",
       " <div class=\"_rooms_1qcbr_139\"> <div class=\"_nouveau_1qcbr_60\"> 173 </div> <div class=\"_typeBien_1qcbr_148\">m²</div> </div>,\n",
       " <div class=\"_rooms_1qcbr_139\"> <div class=\"_typeBien_1qcbr_148\">Ascenseur</div> </div>,\n",
       " <div class=\"_rooms_1qcbr_139\"> <div class=\"_typeBien_1qcbr_148\"> 7ème étage </div> </div>,\n",
       " <div class=\"_rooms_1qcbr_139\"> <div class=\"_typeBien_1qcbr_148\">Terrasse Accessible</div> </div>]"
      ]
     },
     "execution_count": 25,
     "metadata": {},
     "output_type": "execute_result"
    }
   ],
   "source": [
    "rows"
   ]
  },
  {
   "cell_type": "code",
   "execution_count": 20,
   "id": "ba2aa4d5",
   "metadata": {},
   "outputs": [
    {
     "data": {
      "text/plain": [
       "{'2  salles de bains       173  m²    Ascenseur     7ème étage     Terrasse Accessible': '2'}"
      ]
     },
     "execution_count": 20,
     "metadata": {},
     "output_type": "execute_result"
    }
   ],
   "source": [
    "features"
   ]
  },
  {
   "cell_type": "code",
   "execution_count": null,
   "id": "4d029da9",
   "metadata": {},
   "outputs": [
    {
     "data": {
      "text/html": [
       "<div>\n",
       "<style scoped>\n",
       "    .dataframe tbody tr th:only-of-type {\n",
       "        vertical-align: middle;\n",
       "    }\n",
       "\n",
       "    .dataframe tbody tr th {\n",
       "        vertical-align: top;\n",
       "    }\n",
       "\n",
       "    .dataframe thead th {\n",
       "        text-align: right;\n",
       "    }\n",
       "</style>\n",
       "<table border=\"1\" class=\"dataframe\">\n",
       "  <thead>\n",
       "    <tr style=\"text-align: right;\">\n",
       "      <th></th>\n",
       "      <th>name</th>\n",
       "    </tr>\n",
       "  </thead>\n",
       "  <tbody>\n",
       "    <tr>\n",
       "      <th>0</th>\n",
       "      <td>[yassine, hamid]</td>\n",
       "    </tr>\n",
       "  </tbody>\n",
       "</table>\n",
       "</div>"
      ],
      "text/plain": [
       "               name\n",
       "0  [yassine, hamid]"
      ]
     },
     "execution_count": 38,
     "metadata": {},
     "output_type": "execute_result"
    }
   ],
   "source": [
    "pd.DataFrame([{\"name\":}])"
   ]
  }
 ],
 "metadata": {
  "kernelspec": {
   "display_name": "env_1-",
   "language": "python",
   "name": "python3"
  },
  "language_info": {
   "codemirror_mode": {
    "name": "ipython",
    "version": 3
   },
   "file_extension": ".py",
   "mimetype": "text/x-python",
   "name": "python",
   "nbconvert_exporter": "python",
   "pygments_lexer": "ipython3",
   "version": "3.13.3"
  }
 },
 "nbformat": 4,
 "nbformat_minor": 5
}
